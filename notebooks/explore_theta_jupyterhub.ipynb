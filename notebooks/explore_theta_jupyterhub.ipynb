{
 "cells": [
  {
   "cell_type": "markdown",
   "metadata": {},
   "source": [
    "# Using Jupyter on Theta\n",
    "\n",
    "https://jupyter.alcf.anl.gov/theta\n",
    "\n",
    "Jupyter provides interactive computing environment for different languages. Most popular use case is python, since Project Jupyter is indeed a spin-off of interactive Python (IPython) project.\n",
    "Key developer, Fernando Perez is a professor in Statistics at UC Berkley. See https://en.wikipedia.org/wiki/Fernando_P%C3%A9rez_(software_developer)\n",
    "\n",
    "You can run Python and R notebooks or open a terminal on your browser.\n",
    "\n",
    "![test](http://jupyter.org/assets/main-logo.svg)\n",
    "\n",
    "## Caveats\n",
    "1. Jupyter Hub runs on an external server (jupyter02.mcp.alcf.anl.gov). Not on Theta login, mom, or compute nodes!\n",
    "2. Jupyer Hub has access to your home folder (`/home/$USER`) and projects folder (`/projects`) but does not have access to `/opt/cray`, `/opt/intel`, etc., i.e. you can not use any Theta modules or any Cray libraries.\n",
    "3. You can submit jobs to run on Theta with `!qsub myjob.sh`.\n",
    "4. You can customize your environment and add new kernels. To do that you can run shell commands on a notebook cell by prepending it with `!`, i.e. `!pwd`. However, it would be much easier to use Jupyter cluster. You can open a cluster on the Jupyter Hub home menu, and select new cluster. Then, you can create a new conda environment and a new jupyter kernel. For more information on how to manage conda environments, check this [page](https://conda.io/docs/user-guide/tasks/manage-environments.html).\n",
    "    ```\n",
    "    conda create -n jhub_myenv\n",
    "    source activate jhub_myenv\n",
    "    conda install any_module_you_need\n",
    "    source deactivate\n",
    "    ```\n",
    "This will complete the installation of a new environment. To create a Jupyter kernel, you need more work:\n",
    "    ```\n",
    "    source activate jhub_myenv\n",
    "    conda install jupyter nb_conda ipykernel\n",
    "    python -m ipykernel install --user --name jhub_myenv\n",
    "    source deactivate\n",
    "    ```\n",
    "After these steps, you will see `jhub_myenv` kernel when you click `new` on Jupyter Hub. When you open a new notebook using `jhub_myenv` kernel, you can use the custom environment you created with the modules you want.\n",
    "\n",
    "## Recommendations\n",
    "1. Use a name identifier (such as `jhub_` prefix used above) on your Jupyter Hub conda environment to make sure you don't mix them with conda environments you creare on Theta nodes.\n",
    "2. Edit your .bashrc to have specific instructions for each host, i.e.\n",
    "\n",
    "```shell\n",
    "if [[ $HOSTNAME == theta* ]] ; then\n",
    "  export PATH=~/bin_theta:$PATH\n",
    "elif [[ $HOSTNAME == cooley* ]] ; then\n",
    "  export PATH=~/bin_cooley:$PATH\n",
    "elif [[ $HOSTNAME == mira* ]] || [[ $HOSTNAME == cetus* ]] ; then\n",
    "  export PATH=~/bin_mira:$PATH\n",
    "elif [[ $HOSTNAME == jupyter* ]] ; then\n",
    "  export PATH=~/bin_jupyter:$PATH\n",
    "else\n",
    "  echo .bashrc WARNING! Unknown host: $HOSTNAME\n",
    "fi\n",
    "```\n"
   ]
  },
  {
   "cell_type": "code",
   "execution_count": null,
   "metadata": {},
   "outputs": [],
   "source": [
    "#You can run shell commands\n",
    "!hostname\n",
    "!pwd\n",
    "!cd /lus/theta-fs0/projects/\n",
    "\n",
    "# Find out where the module is installed\n",
    "import numpy\n",
    "print(numpy.__file__)\n",
    "# Find out python version\n",
    "import sys\n",
    "print(sys.version)\n",
    "\n",
    "# Find out available modules\n",
    "help('modules')\n",
    "\n",
    "# See $PATH\n",
    "import os\n",
    "print(os.environ['PATH'])"
   ]
  },
  {
   "cell_type": "code",
   "execution_count": 1,
   "metadata": {},
   "outputs": [
    {
     "data": {
      "application/vnd.jupyter.widget-view+json": {
       "model_id": "4d744dbdf1474d3ca393b4f2cc44b6bf",
       "version_major": 2,
       "version_minor": 0
      },
      "text/plain": [
       "interactive(children=(FloatSlider(value=0.0, description='m', max=2.0, min=-2.0), FloatSlider(value=0.0, descr…"
      ]
     },
     "metadata": {},
     "output_type": "display_data"
    }
   ],
   "source": [
    "# A simple example of using widgets\n",
    "%matplotlib inline\n",
    "from ipywidgets import interactive\n",
    "import matplotlib.pyplot as plt\n",
    "import numpy as np\n",
    "\n",
    "def f(m, b):\n",
    "    plt.figure(2)\n",
    "    x = np.linspace(-10, 10, num=1000)\n",
    "    plt.plot(x, m * np.sin(x) + b)\n",
    "    plt.ylim(-5, 5)\n",
    "    plt.show()\n",
    "\n",
    "interactive_plot = interactive(f, m=(-2.0, 2.0), b=(-3, 3, 0.5))\n",
    "output = interactive_plot.children[-1]\n",
    "output.layout.height = '350px'\n",
    "interactive_plot"
   ]
  },
  {
   "cell_type": "code",
   "execution_count": null,
   "metadata": {},
   "outputs": [],
   "source": []
  }
 ],
 "metadata": {
  "kernelspec": {
   "display_name": "Python 3",
   "language": "python",
   "name": "python3"
  },
  "language_info": {
   "codemirror_mode": {
    "name": "ipython",
    "version": 3
   },
   "file_extension": ".py",
   "mimetype": "text/x-python",
   "name": "python",
   "nbconvert_exporter": "python",
   "pygments_lexer": "ipython3",
   "version": "3.6.3"
  }
 },
 "nbformat": 4,
 "nbformat_minor": 2
}
