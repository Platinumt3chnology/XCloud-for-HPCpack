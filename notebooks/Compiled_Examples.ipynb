{
 "cells": [
  {
   "cell_type": "markdown",
   "metadata": {},
   "source": [
    "# A guide through compilation in Python using Electrostatics\n",
    "\n",
    "On the computation of the follow values\n",
    "\n",
    "$$\\sum_{i >j } \\frac{q_i q_j}{r_{ij}}$$"
   ]
  },
  {
   "cell_type": "markdown",
   "metadata": {},
   "source": [
    "Install any packages not available.  \n",
    "`%load_ext cython` is an example of cell magic. This one enables auto-compilation with Cython."
   ]
  },
  {
   "cell_type": "code",
   "execution_count": null,
   "metadata": {},
   "outputs": [],
   "source": [
    "import numpy as np\n",
    "import cython\n",
    "%load_ext cython\n",
    "%matplotlib inline"
   ]
  },
  {
   "cell_type": "markdown",
   "metadata": {},
   "source": [
    "Create a sytem of particles with charges."
   ]
  },
  {
   "cell_type": "code",
   "execution_count": null,
   "metadata": {},
   "outputs": [],
   "source": [
    "def build_system(n, extent=(10, 10, 10), q=(-10, 10)):\n",
    "    \"\"\"Constucts a trial system in cartesian coordinates with random charges.\n",
    "    \"\"\"\n",
    "    np.random.seed(seed=1) # If you want to get same results every time\n",
    "    xyz = np.random.rand(n, 3) * np.array(extent)\n",
    "    q = np.random.randint(*q, size=n)\n",
    "    return (xyz, q)"
   ]
  },
  {
   "cell_type": "code",
   "execution_count": null,
   "metadata": {},
   "outputs": [],
   "source": [
    "xyz, q = build_system(1000)\n",
    "# print(xyz)\n",
    "# print(q)"
   ]
  },
  {
   "cell_type": "markdown",
   "metadata": {},
   "source": [
    "### Pure Python loop\n",
    "\n",
    "This will be pretty slow. \n",
    "\n",
    "`Note on timing`\n",
    "The timeit output will state a time per loop - a loop here refers to one run of the function (not the inner loop!). With small functions, timeit will do multiple iterations of the function to reduce the impact of timing overhead. It will also repeat the timing run several times and take a mean and standard deviation. These can be controlled with arguments if required."
   ]
  },
  {
   "cell_type": "code",
   "execution_count": null,
   "metadata": {},
   "outputs": [],
   "source": [
    "def naive_electrostatics(xyz, q):\n",
    "    \"\"\"Electostatics with simply python for loops\n",
    "    \"\"\"\n",
    "    ret = 0.0\n",
    "    size = xyz.shape[0]\n",
    "    for x in range(size):\n",
    "        for y in range(x + 1, size):\n",
    "            dx = xyz[x, 0] - xyz[y, 0]\n",
    "            dy = xyz[x, 1] - xyz[y, 1]\n",
    "            dz = xyz[x, 2] - xyz[y, 2]\n",
    "            \n",
    "            r = (dx * dx + dy * dy + dz * dz) ** 0.5\n",
    "            ret += q[x] * q[y] / r\n",
    "    return ret\n",
    "\n",
    "print(naive_electrostatics(xyz, q))\n",
    "ttime = %timeit -o naive_electrostatics(xyz, q)\n",
    "print(ttime.worst)"
   ]
  },
  {
   "cell_type": "markdown",
   "metadata": {},
   "source": [
    "### Now using NumPy\n",
    "NumPy provides C-compiled functions and contiguous arrays through a Python interface."
   ]
  },
  {
   "cell_type": "code",
   "execution_count": null,
   "metadata": {},
   "outputs": [],
   "source": [
    "def numpy_electrostatics(xyz, q):\n",
    "    \"\"\"Electostatics with simply python for loops\n",
    "    \"\"\"\n",
    "    ret = 0.0\n",
    "    size = xyz.shape[0]\n",
    "    for x in range(size):\n",
    "        dxyz = xyz[:x] - xyz[x]\n",
    "        r = np.sqrt(np.einsum('ij,ij->i', dxyz, dxyz))\n",
    "        ret += np.sum(q[:x] * q[x] / r)\n",
    "    return ret\n",
    "\n",
    "print(numpy_electrostatics(xyz, q))\n",
    "%timeit numpy_electrostatics(xyz, q)"
   ]
  },
  {
   "cell_type": "markdown",
   "metadata": {},
   "source": [
    "## Cython Implementations"
   ]
  },
  {
   "cell_type": "markdown",
   "metadata": {},
   "source": [
    "### Unmodified code\n",
    "This cell compiles with Cython, and shows the Cython generated code. It does NOT run it!  \n",
    "This one is unmodified Python, so the code will be making CPython calls (Note the yellow lines in the output)."
   ]
  },
  {
   "cell_type": "code",
   "execution_count": null,
   "metadata": {
    "scrolled": false
   },
   "outputs": [],
   "source": [
    "%%cython --annotate\n",
    "\n",
    "def cython1_electrostatics(xyz, q):\n",
    "    \"\"\"Electostatics with simply python for loops\n",
    "    \"\"\"\n",
    "    ret = 0.0\n",
    "    size = xyz.shape[0]\n",
    "    for x in range(size):\n",
    "        for y in range(x + 1, size):\n",
    "            dx = xyz[x, 0] - xyz[y, 0]\n",
    "            dy = xyz[x, 1] - xyz[y, 1]\n",
    "            dz = xyz[x, 2] - xyz[y, 2]\n",
    "            \n",
    "            r = (dx * dx + dy * dy + dz * dz) ** 0.5\n",
    "            ret += q[x] * q[y] / r\n",
    "    return ret\n"
   ]
  },
  {
   "cell_type": "markdown",
   "metadata": {},
   "source": [
    "**Still slow!**\n",
    "It's essentially running Python"
   ]
  },
  {
   "cell_type": "code",
   "execution_count": null,
   "metadata": {
    "scrolled": false
   },
   "outputs": [],
   "source": [
    "print(cython1_electrostatics(xyz, q))\n",
    "%timeit cython1_electrostatics(xyz, q)"
   ]
  },
  {
   "cell_type": "markdown",
   "metadata": {},
   "source": [
    "### Cython with type definitions and NumPy arrays"
   ]
  },
  {
   "cell_type": "code",
   "execution_count": null,
   "metadata": {},
   "outputs": [],
   "source": [
    "%%cython --annotate\n",
    "\n",
    "cimport cython\n",
    "cimport numpy as np\n",
    "\n",
    "def cython2_electrostatics(np.ndarray[np.double_t, ndim=2] xyz, np.ndarray[np.int_t, ndim=1] q):\n",
    "    \"\"\"Electostatics with simply python for loops\n",
    "    \"\"\"\n",
    "    cdef np.double_t ret = 0.0\n",
    "    cdef int size = xyz.shape[0]\n",
    "    \n",
    "    cdef np.double_t dx, dy, dz, r\n",
    "    cdef int x, y\n",
    "    \n",
    "    for x in range(size):\n",
    "        for y in range(x + 1, size):\n",
    "            dx = xyz[x, 0] - xyz[y, 0]\n",
    "            dy = xyz[x, 1] - xyz[y, 1]\n",
    "            dz = xyz[x, 2] - xyz[y, 2]\n",
    "            \n",
    "            r = (dx * dx + dy * dy + dz * dz) ** 0.5\n",
    "            ret += q[x] * q[y] / r\n",
    "    return ret"
   ]
  },
  {
   "cell_type": "code",
   "execution_count": null,
   "metadata": {},
   "outputs": [],
   "source": [
    "print(cython2_electrostatics(xyz, q))\n",
    "%timeit cython2_electrostatics(xyz, q)"
   ]
  },
  {
   "cell_type": "markdown",
   "metadata": {},
   "source": [
    "### Parallel Cython\n",
    "\n",
    "This should run using multiple threads and run faster than the serial version.\n",
    "Use top to check if multiple threads are running.\n",
    "Cython uses OpenMP for parallelism so the %%cython compile args will need to match your compiler. Note also, that in the prange line the GIL is released."
   ]
  },
  {
   "cell_type": "code",
   "execution_count": null,
   "metadata": {},
   "outputs": [],
   "source": [
    "%%cython --compile-args=-fopenmp --link-args=-fopenmp --force\n",
    "\n",
    "cimport cython\n",
    "cimport cython.parallel\n",
    "cimport numpy as np\n",
    "\n",
    "@cython.boundscheck(False)\n",
    "@cython.wraparound(False)\n",
    "@cython.cdivision(True) \n",
    "def cython3_electrostatics(np.ndarray[np.double_t, ndim=2] xyz, np.ndarray[np.int_t, ndim=1] q):\n",
    "    \"\"\"Electostatics with simply python for loops\n",
    "    \"\"\"\n",
    "    cdef np.double_t ret = 0.0\n",
    "    cdef int size = xyz.shape[0]\n",
    "    \n",
    "    cdef np.double_t dx, dy, dz, r\n",
    "    cdef int x, y\n",
    "    \n",
    "    for x in cython.parallel.prange(size, nogil=True, schedule=\"guided\"):\n",
    "        for y in range(x + 1, size):\n",
    "            dx = xyz[x, 0] - xyz[y, 0]\n",
    "            dy = xyz[x, 1] - xyz[y, 1]\n",
    "            dz = xyz[x, 2] - xyz[y, 2]\n",
    "            \n",
    "            r = (dx * dx + dy * dy + dz * dz) ** 0.5\n",
    "            ret += q[x] * q[y] / r\n",
    "    return ret"
   ]
  },
  {
   "cell_type": "code",
   "execution_count": null,
   "metadata": {},
   "outputs": [],
   "source": [
    "print(cython3_electrostatics(xyz, q))\n",
    "%timeit cython3_electrostatics(xyz, q)"
   ]
  },
  {
   "cell_type": "markdown",
   "metadata": {},
   "source": [
    "## Numba\n",
    "\n",
    "Numba will jit compile the pure Python code, without requiring types.\n",
    "It uses LLVM as the back end. When you install Numba (e.g. pip or conda), it will install llvmlite as a dependency, so you don't need to already have it on your system."
   ]
  },
  {
   "cell_type": "code",
   "execution_count": null,
   "metadata": {
    "scrolled": true
   },
   "outputs": [],
   "source": [
    "import numba\n",
    "jit_electrostatics = numba.jit(naive_electrostatics, nopython=True)\n",
    "\n",
    "print(jit_electrostatics(xyz, q))\n",
    "%timeit jit_electrostatics(xyz, q)"
   ]
  },
  {
   "cell_type": "markdown",
   "metadata": {},
   "source": [
    "### Parallel Numba"
   ]
  },
  {
   "cell_type": "code",
   "execution_count": null,
   "metadata": {},
   "outputs": [],
   "source": [
    "def prange_electrostatics(xyz, q):\n",
    "    \"\"\"Electostatics with simply python for loops\n",
    "    \"\"\"\n",
    "    ret = 0.0\n",
    "    size = xyz.shape[0]\n",
    "    for x in numba.prange(size):\n",
    "        for y in range(x + 1, size):\n",
    "            dx = xyz[x, 0] - xyz[y, 0]\n",
    "            dy = xyz[x, 1] - xyz[y, 1]\n",
    "            dz = xyz[x, 2] - xyz[y, 2]\n",
    "            \n",
    "            r = (dx * dx + dy * dy + dz * dz) ** 0.5\n",
    "            ret += q[x] * q[y] / r\n",
    "    return ret\n",
    "\n",
    "jit_prange_electrostatics = numba.jit(prange_electrostatics, nopython=True, parallel=True)\n",
    "\n",
    "print(jit_prange_electrostatics(xyz, q))\n",
    "%timeit jit_prange_electrostatics(xyz, q)"
   ]
  },
  {
   "cell_type": "markdown",
   "metadata": {},
   "source": [
    "### Numba on GPU\n",
    "Uncomment and try if you have a CUDA capable GPU"
   ]
  },
  {
   "cell_type": "code",
   "execution_count": null,
   "metadata": {},
   "outputs": [],
   "source": [
    "# Required CUDA GPU's 'conda install cudatoolkit\n",
    "#gpujit_prange_electrostatics = numba.cuda.jit(prange_electrostatics, nopython=True)\n",
    "\n",
    "# print(gpujit_prange_electrostatics(xyz, q))\n",
    "# %timeit gpujit_prange_electrostatics(xyz, q)"
   ]
  },
  {
   "cell_type": "markdown",
   "metadata": {},
   "source": [
    "## Comparison of methods\n",
    "Compare across implementations for various size datasets."
   ]
  },
  {
   "cell_type": "code",
   "execution_count": null,
   "metadata": {},
   "outputs": [],
   "source": [
    "import seaborn\n",
    "import pandas as pd\n",
    "\n",
    "func_dict = {\n",
    "    \"python\": naive_electrostatics,\n",
    "    \"numpy\": numpy_electrostatics,\n",
    "    \"cython2\": cython2_electrostatics,\n",
    "    \"cython3\": cython3_electrostatics,\n",
    "    \"jit\": jit_electrostatics,\n",
    "    \"jit_prange\": jit_prange_electrostatics,\n",
    "}\n",
    "\n",
    "active = {k : True for k in func_dict.keys()}\n",
    "\n",
    "sizes = [1e1, 1e2, 1e3, 1e4]\n",
    "df = []\n",
    "\n",
    "for s in sizes:\n",
    "    tmp_xyz, tmp_q = build_system(int(s))\n",
    "    print(\"\\nTimes for size {}\".format(s))\n",
    "    print(\"----------------------------\")\n",
    "    for name, func in func_dict.items():\n",
    "        \n",
    "\n",
    "        # Filter out very long runs\n",
    "        if not active[name]:\n",
    "            continue\n",
    "            \n",
    "        print(\"\\nTiming function {}:\".format(name))\n",
    "\n",
    "        \n",
    "        timing = %timeit -o func(tmp_xyz, tmp_q)\n",
    "        df.append([s, name, timing.best])\n",
    "        \n",
    "        if timing.best > 0.5:\n",
    "            active[name] = False\n",
    "\n",
    "df = pd.DataFrame(df, columns=[\"Size\", \"Algorithm\", \"Time [s]\"])"
   ]
  },
  {
   "cell_type": "markdown",
   "metadata": {},
   "source": [
    "### Show table of results"
   ]
  },
  {
   "cell_type": "code",
   "execution_count": null,
   "metadata": {},
   "outputs": [],
   "source": [
    "df"
   ]
  },
  {
   "cell_type": "markdown",
   "metadata": {},
   "source": [
    "### Plot results"
   ]
  },
  {
   "cell_type": "code",
   "execution_count": null,
   "metadata": {},
   "outputs": [],
   "source": [
    "import seaborn as sns\n",
    "import matplotlib.pyplot as plt\n",
    "\n",
    "sns.set(font_scale=2)\n",
    "fig, ax = plt.subplots()\n",
    "fig.set_size_inches(16, 12)\n",
    "\n",
    "g = sns.barplot(x=\"Size\", y=\"Time [s]\", hue=\"Algorithm\", data=df, ax=ax)\n",
    "g.set_yscale('log')"
   ]
  }
 ],
 "metadata": {
  "kernelspec": {
   "display_name": "Python 3",
   "language": "python",
   "name": "python3"
  },
  "language_info": {
   "codemirror_mode": {
    "name": "ipython",
    "version": 3
   },
   "file_extension": ".py",
   "mimetype": "text/x-python",
   "name": "python",
   "nbconvert_exporter": "python",
   "pygments_lexer": "ipython3",
   "version": "3.7.3"
  }
 },
 "nbformat": 4,
 "nbformat_minor": 2
}
